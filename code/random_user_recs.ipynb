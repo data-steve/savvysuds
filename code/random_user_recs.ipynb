{
 "cells": [
  {
   "cell_type": "code",
   "execution_count": 72,
   "metadata": {
    "collapsed": false
   },
   "outputs": [],
   "source": [
    "import numpy as np\n",
    "import pandas as pd\n",
    "import graphlab as gl\n",
    "\n",
    "import process_data as get\n",
    "import main"
   ]
  },
  {
   "cell_type": "code",
   "execution_count": 73,
   "metadata": {
    "collapsed": false
   },
   "outputs": [],
   "source": [
    "# load models\n",
    "is_model = gl.load_model('../models/item_similarity_model/')\n",
    "nmf_model = gl.load_model('../models/nmf_model/')"
   ]
  },
  {
   "cell_type": "code",
   "execution_count": 88,
   "metadata": {
    "collapsed": false
   },
   "outputs": [],
   "source": [
    "# load data\n",
    "TRADE_PATH = '../data/raw_data/trades.csv'\n",
    "TRADE_ITEM_PATH = '../data/raw_data/trade_items.csv'\n",
    "FTISO_PATH = '../data/raw_data/ftiso.csv'\n",
    "BEERS_PATH = '../data/raw_data/beers_3.csv'\n",
    "\n",
    "ft, user_beers, beers = get.rec_data(FTISO_PATH,\n",
    "                                          TRADE_PATH,\n",
    "                                          TRADE_ITEM_PATH,\n",
    "                                          BEERS_PATH)\n",
    "user_data = pd.read_csv('../data/raw_data/users.csv')\n",
    "ftiso = pd.read_csv('../data/raw_data/ftiso_2.csv')\n",
    "ftiso.columns = [\n",
    "            'ID',\n",
    "            'Beer ID',\n",
    "            'Quantity',\n",
    "            'Cellar Quantity',\n",
    "            'User ID',\n",
    "            'Type',\n",
    "            'Accessible List',\n",
    "            'Created',\n",
    "            'Modified']"
   ]
  },
  {
   "cell_type": "code",
   "execution_count": 75,
   "metadata": {
    "collapsed": false
   },
   "outputs": [],
   "source": [
    "# clean data\n",
    "wishlist = ftiso[['user_id', 'quantity']].groupby(['user_id'], as_index=False).sum()\n",
    "wishlist = wishlist[wishlist['quantity'] > 25]"
   ]
  },
  {
   "cell_type": "code",
   "execution_count": 76,
   "metadata": {
    "collapsed": false
   },
   "outputs": [],
   "source": [
    "# create df of randomly selected users\n",
    "users = np.array(wishlist['user_id'])\n",
    "r_users = np.random.choice(users, (50, 3))\n",
    "r_users = pd.DataFrame(r_users).head(10)\n",
    "r_users.columns = ['control', 'item_sim', 'nmf']"
   ]
  },
  {
   "cell_type": "code",
   "execution_count": 89,
   "metadata": {
    "collapsed": false
   },
   "outputs": [
    {
     "name": "stdout",
     "output_type": "stream",
     "text": [
      "   user_id  item_id               Name           Style  \\\n",
      "0    11791    45665  Hop, Drop ‘n Roll  IPA - American   \n",
      "1     5518    45665  Hop, Drop ‘n Roll  IPA - American   \n",
      "2    11791     4041      Blind Pig IPA    American IPA   \n",
      "3     1218     4041      Blind Pig IPA    American IPA   \n",
      "4     5518     4041      Blind Pig IPA    American IPA   \n",
      "\n",
      "                    Brewery Name  \n",
      "0           NoDa Brewing Company  \n",
      "1           NoDa Brewing Company  \n",
      "2  Russian River Brewing Company  \n",
      "3  Russian River Brewing Company  \n",
      "4  Russian River Brewing Company  \n",
      "   user_id  item_id                        Name  \\\n",
      "0     9616    13559                 Zombie Dust   \n",
      "1    10048    13559                 Zombie Dust   \n",
      "2     9616     6830           Backwoods Bastard   \n",
      "3     9616  1061070            Dark Lord (2015)   \n",
      "4     9616     8343  Bourbon County Brand Stout   \n",
      "\n",
      "                              Style                  Brewery Name  \n",
      "0                 American Pale Ale  Three Floyds Brewing Company  \n",
      "1                 American Pale Ale  Three Floyds Brewing Company  \n",
      "2            Scotch Ale / Wee Heavy          Founders Brewing Co.  \n",
      "3            Russian Imperial Stout      3 Floyds Brewing Company  \n",
      "4  American Imperial / Double Stout         Goose Island Beer Co.  \n"
     ]
    }
   ],
   "source": [
    "is_r = main.check_recs(list(r_users['item_sim']), is_model, ftiso, user_beers, beers)\n",
    "nmf_r = main.check_recs(list(r_users['nmf']), nmf_model, ftiso, user_beers, beers)"
   ]
  },
  {
   "cell_type": "code",
   "execution_count": null,
   "metadata": {
    "collapsed": true
   },
   "outputs": [],
   "source": []
  }
 ],
 "metadata": {
  "kernelspec": {
   "display_name": "Python 2",
   "language": "python",
   "name": "python2"
  },
  "language_info": {
   "codemirror_mode": {
    "name": "ipython",
    "version": 2
   },
   "file_extension": ".py",
   "mimetype": "text/x-python",
   "name": "python",
   "nbconvert_exporter": "python",
   "pygments_lexer": "ipython2",
   "version": "2.7.11"
  }
 },
 "nbformat": 4,
 "nbformat_minor": 0
}
